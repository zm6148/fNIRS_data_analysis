{
  "nbformat": 4,
  "nbformat_minor": 0,
  "metadata": {
    "colab": {
      "name": "fNIRS_ML.ipynb",
      "provenance": [],
      "collapsed_sections": [],
      "include_colab_link": true
    },
    "kernelspec": {
      "name": "python3",
      "display_name": "Python 3"
    }
  },
  "cells": [
    {
      "cell_type": "markdown",
      "metadata": {
        "id": "view-in-github",
        "colab_type": "text"
      },
      "source": [
        "<a href=\"https://colab.research.google.com/github/zm6148/fNIRS_data_analysis/blob/master/fNIRS_ML.ipynb\" target=\"_parent\"><img src=\"https://colab.research.google.com/assets/colab-badge.svg\" alt=\"Open In Colab\"/></a>"
      ]
    },
    {
      "cell_type": "markdown",
      "metadata": {
        "id": "0TrEFIzJXRnw",
        "colab_type": "text"
      },
      "source": [
        "# **Machine Learing on fNIRS data**\n"
      ]
    },
    {
      "cell_type": "markdown",
      "metadata": {
        "id": "0p3xAn4UXbee",
        "colab_type": "text"
      },
      "source": [
        "# 1. **Load processed data from google drive** \n",
        "*  Data was preprocessed on Matlab using homer2 scripts\n",
        "*  filter -> de-trend ->  wavelet remove motion -> convert \n",
        "\n"
      ]
    },
    {
      "cell_type": "code",
      "metadata": {
        "colab_type": "code",
        "id": "RWSJpsyKqHjH",
        "outputId": "23d8b7d9-9a3e-4827-c8c1-4c656e8f52a3",
        "colab": {
          "base_uri": "https://localhost:8080/",
          "height": 34
        }
      },
      "source": [
        "# Load the Drive helper and mount\n",
        "from google.colab import drive\n",
        "import numpy as np\n",
        "from scipy import stats\n",
        "from scipy import signal\n",
        "import scipy.io\n",
        "import os\n",
        "import random\n",
        "import pywt\n",
        "from sklearn import svm\n",
        "from sklearn import tree\n",
        "from sklearn.ensemble import BaggingClassifier\n",
        "from sklearn.decomposition import PCA\n",
        "from sklearn.neural_network import MLPClassifier\n",
        "import matplotlib.pyplot as plt\n",
        "from sklearn.decomposition import PCA\n",
        "from mpl_toolkits import mplot3d\n",
        "import tensorflow as tf\n",
        "import shutil\n",
        "from tensorflow.keras.optimizers import RMSprop\n",
        "\n",
        "\n",
        "# This will prompt for authorization.\n",
        "drive.mount('/content/drive')"
      ],
      "execution_count": 104,
      "outputs": [
        {
          "output_type": "stream",
          "text": [
            "Drive already mounted at /content/drive; to attempt to forcibly remount, call drive.mount(\"/content/drive\", force_remount=True).\n"
          ],
          "name": "stdout"
        }
      ]
    },
    {
      "cell_type": "code",
      "metadata": {
        "id": "01YB0p0IZYpN",
        "colab_type": "code",
        "outputId": "26af5b61-cb3e-4d26-855f-1e5aa8d23c38",
        "colab": {
          "base_uri": "https://localhost:8080/",
          "height": 34
        }
      },
      "source": [
        "# After executing the cell above, Drive\n",
        "# files will be present in \"/content/drive/My Drive\".\n",
        "!ls \"/content/drive/My Drive/fNIRS_ML_colab/data\""
      ],
      "execution_count": 105,
      "outputs": [
        {
          "output_type": "stream",
          "text": [
            "ML_dataset.mat\n"
          ],
          "name": "stdout"
        }
      ]
    },
    {
      "cell_type": "code",
      "metadata": {
        "id": "tIIfdm-jyQw-",
        "colab_type": "code",
        "colab": {}
      },
      "source": [
        "# define useful functions\n",
        "\n",
        "# function for calcualte accuracy\n",
        "def predict_accuracy (answer, output):\n",
        "    length = len(answer) \n",
        "    count = 0.0;\n",
        "    for ii in range(0,length):\n",
        "        if answer[ii] == output[ii]:\n",
        "            count = count + 1 \n",
        "    return (count/length) * 100\n",
        "\n",
        "# random sample n from 12 blocks to calculate blkavg for each subject to increade \n",
        "# training data size\n",
        "# def random_sample_training (training_data, training_SID, training_ROI, training_label):\n",
        "\n",
        "\n",
        "# do block average on testing data sets\n",
        "# each subject will have 2 blockaverage trace only\n",
        "# def blvg_testing(testing_data, testing_SID, testing_ROI, testing_label):"
      ],
      "execution_count": 0,
      "outputs": []
    },
    {
      "cell_type": "markdown",
      "metadata": {
        "id": "-OvcN3YJcvp9",
        "colab_type": "text"
      },
      "source": [
        "block average trace is and all labels are stored in the .mat file\n",
        "*   data for all 28 subjects recordings\n",
        "*   SID for subject label\n",
        "*   ROI for region of interest label(1: left cIFS; 2: right cIFS; 3: left STG; 4: right STG)\n",
        "*   label for task type label (1: active; 0: passive)\n",
        "\n",
        "\n",
        "\n"
      ]
    },
    {
      "cell_type": "code",
      "metadata": {
        "id": "Mx4RmHqmZ2lv",
        "colab_type": "code",
        "colab": {}
      },
      "source": [
        "# navigate to the data folder and load the preprocessed files\n",
        "ML_dataset = scipy.io.loadmat('/content/drive/My Drive/fNIRS_ML_colab/data/ML_dataset.mat')\n",
        "data = np.asarray(ML_dataset['data'])\n",
        "SID = np.asarray(ML_dataset['SID'])\n",
        "ROI = np.asarray(ML_dataset['ROI'])\n",
        "label = np.asarray(ML_dataset['label'])"
      ],
      "execution_count": 0,
      "outputs": []
    },
    {
      "cell_type": "code",
      "metadata": {
        "id": "Yl0IcxajeHHB",
        "colab_type": "code",
        "outputId": "5366adcc-3c2c-4fbd-b6ca-6696027c5577",
        "colab": {
          "base_uri": "https://localhost:8080/",
          "height": 265
        }
      },
      "source": [
        "# Plot blkavg and check to be sure we got the data right\n",
        "active_index = np.where(label == 1)[0]\n",
        "passive_index = np.where(label == 0)[0]\n",
        "data_active = data[active_index, :]\n",
        "data_passive = data[passive_index, :]\n",
        "\n",
        "fig = plt.figure('active vs. passive')    \n",
        "y = np.mean(data_active,axis = 0)\n",
        "SE = np.std(data_active, axis = 0);\n",
        "SEM = SE/np.sqrt(len(data_active));\n",
        "plt.plot(range(len(y)), y, 'r', label = 'active')\n",
        "plt.fill_between(range(len(y)), y - SEM, y + SEM, alpha=0.3, facecolor='r')\n",
        "    \n",
        "y = np.mean(data_passive,axis = 0)\n",
        "SE = np.std(data_passive, axis = 0);\n",
        "SEM = SE/np.sqrt(len(data_active));\n",
        "plt.plot(range(len(y)), y, 'b', label = 'passive')\n",
        "plt.fill_between(range(len(y)), y - SEM, y + SEM, alpha=0.3, facecolor='b')\n",
        "plt.legend()\n",
        "plt.show()"
      ],
      "execution_count": 108,
      "outputs": [
        {
          "output_type": "display_data",
          "data": {
            "image/png": "[encoded data removed]",
            "text/plain": [
              "<Figure size 432x288 with 1 Axes>"
            ]
          },
          "metadata": {
            "tags": []
          }
        }
      ]
    },
    {
      "cell_type": "markdown",
      "metadata": {
        "id": "zkawbLhxhPsr",
        "colab_type": "text"
      },
      "source": [
        "# **2. Prepare training and testing data sets**"
      ]
    },
    {
      "cell_type": "code",
      "metadata": {
        "id": "z9c4LrgXh3oC",
        "colab_type": "code",
        "colab": {}
      },
      "source": [
        "# choose 8 subject as tesing, the rest as training\n",
        "all_subject_ID = list(np.unique(SID))\n",
        "# SID \n",
        "testing_SID = random.sample(all_subject_ID, 8)\n",
        "training_SID = np.delete(all_subject_ID, np.where(all_subject_ID == all_subject_ID))\n",
        "# data\n",
        "testing_data = data[np.where(SID == testing_SID)[0]]\n",
        "training_data = data[np.where(SID == training_SID)[0]]\n",
        "# ROI\n",
        "testing_ROI = ROI[np.where(SID == testing_SID)[0]]\n",
        "training_ROI = ROI[np.where(SID == training_SID)[0]]\n",
        "# label\n",
        "testing_label = label[np.where(SID == testing_SID)[0]]\n",
        "training_label = label[np.where(SID == training_SID)[0]]\n",
        "\n",
        "\n",
        "# X is the training data set\n",
        "# y is the class label\n",
        "X = training_data\n",
        "y = training_label[:,0]\n",
        "\n",
        "# PCA for projection plot later\n",
        "pca_a = PCA(n_components=8)\n",
        "testing_data_r_a = pca_a.fit(testing_data).transform(testing_data)"
      ],
      "execution_count": 0,
      "outputs": []
    },
    {
      "cell_type": "markdown",
      "metadata": {
        "id": "VK5LSbvzhbMp",
        "colab_type": "text"
      },
      "source": [
        "# **3. Try different ML methods**\n",
        "*   SVM\n",
        "*   Decision tree \n",
        "*   Neural Network (?)"
      ]
    },
    {
      "cell_type": "markdown",
      "metadata": {
        "id": "8307rW4V_Rxm",
        "colab_type": "text"
      },
      "source": [
        "1. Simple SVM"
      ]
    },
    {
      "cell_type": "code",
      "metadata": {
        "id": "A4lPSSEnh5O6",
        "colab_type": "code",
        "outputId": "750e8d6b-6246-48b3-87dd-8ab85395af30",
        "colab": {
          "base_uri": "https://localhost:8080/",
          "height": 68
        }
      },
      "source": [
        "# simplest SVM with no feature selection or extraction\n",
        "# train svm\n",
        "clf_svm= svm.SVC()\n",
        "clf_svm.fit(X, y)  \n",
        "# use clf to perdict \n",
        "out_put_SVM = clf_svm.predict(testing_data)     \n",
        "# see how good it is\n",
        "per_correct_SVM = predict_accuracy(testing_label, out_put_SVM)\n",
        "print(\"\\nSimple SVM accuracy on test data is {:0.2f}%.\\n\".format(per_correct_SVM))"
      ],
      "execution_count": 111,
      "outputs": [
        {
          "output_type": "stream",
          "text": [
            "\n",
            "Simple SVM accuracy on test data is 71.25%.\n",
            "\n"
          ],
          "name": "stdout"
        }
      ]
    },
    {
      "cell_type": "markdown",
      "metadata": {
        "id": "eKuyhIJgAhq1",
        "colab_type": "text"
      },
      "source": [
        "2. DT and RF"
      ]
    },
    {
      "cell_type": "code",
      "metadata": {
        "id": "hb0i2PHQAhX3",
        "colab_type": "code",
        "outputId": "4f48b9cc-5605-4186-d599-02bc7c04df9a",
        "colab": {
          "base_uri": "https://localhost:8080/",
          "height": 68
        }
      },
      "source": [
        "# decision tree and random forest\n",
        "# each time take 80% of the training data to build a tree, build 10 trees\n",
        "# voting at the end\n",
        "clf_DT = tree.DecisionTreeClassifier()\n",
        "bag = BaggingClassifier(clf_DT, n_estimators=10, max_samples=0.8, random_state=1)\n",
        "clf_DT = bag.fit(X, y)\n",
        "\n",
        "# use forest to perdict \n",
        "out_put_DT = clf_DT.predict(testing_data)\n",
        "# see how good it is\n",
        "per_correct_DT = predict_accuracy(testing_label, out_put_DT)\n",
        "print(\"\\nDT accuracy on test data is {:0.2f}%.\\n\".format(per_correct_DT))"
      ],
      "execution_count": 112,
      "outputs": [
        {
          "output_type": "stream",
          "text": [
            "\n",
            "DT accuracy on test data is 97.22%.\n",
            "\n"
          ],
          "name": "stdout"
        }
      ]
    },
    {
      "cell_type": "markdown",
      "metadata": {
        "id": "kpJNcnhPFEXI",
        "colab_type": "text"
      },
      "source": [
        "3. NN (?)\n",
        "\n",
        "\n",
        "> Generate training set from stft from training data and save"
      ]
    },
    {
      "cell_type": "code",
      "metadata": {
        "id": "lDBoqqMeja9O",
        "colab_type": "code",
        "outputId": "e0d02c9f-8f6c-4762-9de1-a7570b9f136c",
        "colab": {
          "base_uri": "https://localhost:8080/",
          "height": 34
        }
      },
      "source": [
        "# NN implemented in tensorflow\n",
        "# 1. perform stft on each trainset row, use the stft plot as the input for training\n",
        "# 2. apply NN using tensor flow\n",
        "# sampling frequence Fs = 50 Hz\n",
        "Fs = 50\n",
        "N = 10 * Fs\n",
        "nperseg = 5\n",
        "amp = 2 * np.sqrt(2)\n",
        "\n",
        "# training data\n",
        "fig_path='/content/drive/My Drive/fNIRS_ML_colab/images/'\n",
        "fig_path_active = '/content/drive/My Drive/fNIRS_ML_colab/images/active/'\n",
        "fig_path_passive = '/content/drive/My Drive/fNIRS_ML_colab/images/passive/'\n",
        "if os.path.exists(fig_path):\n",
        "  shutil.rmtree(fig_path)\n",
        "if not os.path.exists(fig_path_active) or not os.path.exists(fig_path_passive) or not os.path.exists(fig_path):\n",
        "  os.makedirs(fig_path)\n",
        "  os.makedirs(fig_path_active)\n",
        "  os.makedirs(fig_path_passive)\n",
        "for ii in range(len(X)):\n",
        "  # generate graph as save as input for training\n",
        "  f, t, Zxx = signal.stft(X[ii,:], fs=Fs, window='hann', nperseg=3, noverlap=nperseg // 2, boundary='zeros')\n",
        "  fig = plt.figure(1)\n",
        "  plt.pcolormesh(t, f, np.abs(Zxx), vmin=0, vmax=amp)\n",
        "  if training_label[ii] == 1:\n",
        "    fig_name = 'active_'+str(ii)+'.png'\n",
        "    fig_filename = os.path.join(fig_path_active, fig_name)\n",
        "    fig.savefig(fig_filename)\n",
        "  else:\n",
        "    fig_name = 'passive_'+str(ii)+'.png'\n",
        "    fig_filename = os.path.join(fig_path_passive, fig_name)\n",
        "    fig.savefig(fig_filename)\n",
        "  plt.close()\n",
        "    \n",
        "# testing data\n",
        "fig_path='/content/drive/My Drive/fNIRS_ML_colab/images_testing/'\n",
        "fig_path_active = '/content/drive/My Drive/fNIRS_ML_colab/images_testing/active/'\n",
        "fig_path_passive = '/content/drive/My Drive/fNIRS_ML_colab/images_testing/passive/'\n",
        "if os.path.exists(fig_path):\n",
        "  shutil.rmtree(fig_path)\n",
        "if not os.path.exists(fig_path_active) or not os.path.exists(fig_path_passive) or not os.path.exists(fig_path):\n",
        "  os.makedirs(fig_path)\n",
        "  os.makedirs(fig_path_active)\n",
        "  os.makedirs(fig_path_passive)\n",
        "for ii in range(len(testing_data)):\n",
        "  # generate graph as save as input for training\n",
        "  f, t, Zxx = signal.stft(testing_data[ii,:], fs=Fs, window='hann', nperseg=3, noverlap=nperseg // 2, boundary='zeros')\n",
        "  fig = plt.figure(1)\n",
        "  plt.pcolormesh(t, f, np.abs(Zxx), vmin=0, vmax=amp)\n",
        "  if testing_label[ii] == 1:\n",
        "    fig_name = 'active_'+str(ii)+'.png'\n",
        "    fig_filename = os.path.join(fig_path_active, fig_name)\n",
        "    fig.savefig(fig_filename)\n",
        "  else:\n",
        "    fig_name = 'passive_'+str(ii)+'.png'\n",
        "    fig_filename = os.path.join(fig_path_passive, fig_name)\n",
        "    fig.savefig(fig_filename)\n",
        "  plt.close()\n",
        "\n",
        "print(\"All images saved\")"
      ],
      "execution_count": 113,
      "outputs": [
        {
          "output_type": "stream",
          "text": [
            "All images saved\n"
          ],
          "name": "stdout"
        }
      ]
    },
    {
      "cell_type": "code",
      "metadata": {
        "id": "dETgVBetl9nb",
        "colab_type": "code",
        "outputId": "f9d582a6-35a6-4a8c-c33a-0adbadfe201b",
        "colab": {
          "base_uri": "https://localhost:8080/",
          "height": 51
        }
      },
      "source": [
        "# load from images folder and prepare training set\n",
        "from tensorflow.keras.preprocessing.image import ImageDataGenerator\n",
        "\n",
        "# All images will be rescaled by 1./255\n",
        "train_datagen = ImageDataGenerator(rescale=1/255)\n",
        "validation_datagen = ImageDataGenerator(rescale=1/255)\n",
        "\n",
        "# Flow training images in batches of 128 using train_datagen generator\n",
        "train_generator = train_datagen.flow_from_directory(\n",
        "        '/content/drive/My Drive/fNIRS_ML_colab/images/',  # This is the source directory for training images\n",
        "        target_size=(150, 150),  # All images will be resized to 150x150\n",
        "        batch_size=128,\n",
        "        # Since we use binary_crossentropy loss, we need binary labels\n",
        "        class_mode='binary')\n",
        "\n",
        "# Flow training images in batches of 128 using train_datagen generator\n",
        "validation_generator = validation_datagen.flow_from_directory(\n",
        "        '/content/drive/My Drive/fNIRS_ML_colab/images_testing/',  # This is the source directory for training images\n",
        "        target_size=(150, 150),  # All images will be resized to 150x150\n",
        "        batch_size=32,\n",
        "        # Since we use binary_crossentropy loss, we need binary labels\n",
        "        class_mode='binary')"
      ],
      "execution_count": 114,
      "outputs": [
        {
          "output_type": "stream",
          "text": [
            "Found 1968 images belonging to 2 classes.\n",
            "Found 720 images belonging to 2 classes.\n"
          ],
          "name": "stdout"
        }
      ]
    },
    {
      "cell_type": "code",
      "metadata": {
        "id": "VXDfO3hPnwSm",
        "colab_type": "code",
        "outputId": "dce007ce-0630-4461-ba29-f2a2a344f8f4",
        "colab": {
          "base_uri": "https://localhost:8080/",
          "height": 459
        }
      },
      "source": [
        "# build model then start training\n",
        "model = tf.keras.models.Sequential([\n",
        "    # Note the input shape is the desired size of the image 150x150 with 3 bytes color\n",
        "    # This is the first convolution\n",
        "    tf.keras.layers.Conv2D(16, (3,3), activation='relu', input_shape=(150, 150, 3)),\n",
        "    tf.keras.layers.MaxPooling2D(2, 2),\n",
        "    # The second convolution\n",
        "    tf.keras.layers.Conv2D(32, (3,3), activation='relu'),\n",
        "    tf.keras.layers.MaxPooling2D(2,2),\n",
        "    # The third convolution\n",
        "    tf.keras.layers.Conv2D(64, (3,3), activation='relu'),\n",
        "    tf.keras.layers.MaxPooling2D(2,2),\n",
        "    tf.keras.layers.Flatten(),\n",
        "    # 512 neuron hidden layer\n",
        "    tf.keras.layers.Dense(512, activation='relu'),\n",
        "    # Only 1 output neuron. It will contain a value from 0-1 where 0 for 1 class ('horses') and 1 for the other ('humans')\n",
        "    tf.keras.layers.Dense(1, activation='sigmoid')\n",
        "])\n",
        "model.summary()\n",
        "# compile\n",
        "model.compile(loss='binary_crossentropy',\n",
        "              optimizer=RMSprop(lr=0.001),\n",
        "              metrics=['acc'])"
      ],
      "execution_count": 115,
      "outputs": [
        {
          "output_type": "stream",
          "text": [
            "Model: \"sequential_10\"\n",
            "_________________________________________________________________\n",
            "Layer (type)                 Output Shape              Param #   \n",
            "=================================================================\n",
            "conv2d_8 (Conv2D)            (None, 148, 148, 16)      448       \n",
            "_________________________________________________________________\n",
            "max_pooling2d_8 (MaxPooling2 (None, 74, 74, 16)        0         \n",
            "_________________________________________________________________\n",
            "conv2d_9 (Conv2D)            (None, 72, 72, 32)        4640      \n",
            "_________________________________________________________________\n",
            "max_pooling2d_9 (MaxPooling2 (None, 36, 36, 32)        0         \n",
            "_________________________________________________________________\n",
            "conv2d_10 (Conv2D)           (None, 34, 34, 64)        18496     \n",
            "_________________________________________________________________\n",
            "max_pooling2d_10 (MaxPooling (None, 17, 17, 64)        0         \n",
            "_________________________________________________________________\n",
            "flatten_10 (Flatten)         (None, 18496)             0         \n",
            "_________________________________________________________________\n",
            "dense_22 (Dense)             (None, 512)               9470464   \n",
            "_________________________________________________________________\n",
            "dense_23 (Dense)             (None, 1)                 513       \n",
            "=================================================================\n",
            "Total params: 9,494,561\n",
            "Trainable params: 9,494,561\n",
            "Non-trainable params: 0\n",
            "_________________________________________________________________\n"
          ],
          "name": "stdout"
        }
      ]
    },
    {
      "cell_type": "code",
      "metadata": {
        "id": "BukfmkkTuWbU",
        "colab_type": "code",
        "outputId": "58b62564-9468-4fcf-90ff-73ec4f8cc468",
        "colab": {
          "base_uri": "https://localhost:8080/",
          "height": 1000
        }
      },
      "source": [
        "# start training and testing\n",
        "history = model.fit_generator(\n",
        "      train_generator,\n",
        "      steps_per_epoch=50,  \n",
        "      epochs=50,\n",
        "      verbose=1,\n",
        "      validation_data = validation_generator,\n",
        "      validation_steps=8)"
      ],
      "execution_count": 0,
      "outputs": [
        {
          "output_type": "stream",
          "text": [
            "Epoch 1/50\n",
            "49/50 [============================>.] - ETA: 2s - loss: 0.6655 - acc: 0.5968Epoch 1/50\n",
            "50/50 [==============================] - 142s 3s/step - loss: 0.6658 - acc: 0.5958 - val_loss: 0.6703 - val_acc: 0.5781\n",
            "Epoch 2/50\n",
            "49/50 [============================>.] - ETA: 2s - loss: 0.6596 - acc: 0.6035Epoch 1/50\n",
            "50/50 [==============================] - 138s 3s/step - loss: 0.6591 - acc: 0.6038 - val_loss: 0.6681 - val_acc: 0.6133\n",
            "Epoch 3/50\n",
            "49/50 [============================>.] - ETA: 2s - loss: 0.6439 - acc: 0.6284Epoch 1/50\n",
            "50/50 [==============================] - 141s 3s/step - loss: 0.6432 - acc: 0.6293 - val_loss: 0.6379 - val_acc: 0.5898\n",
            "Epoch 4/50\n",
            "49/50 [============================>.] - ETA: 2s - loss: 0.6163 - acc: 0.6590Epoch 1/50\n",
            "50/50 [==============================] - 138s 3s/step - loss: 0.6169 - acc: 0.6586 - val_loss: 0.6419 - val_acc: 0.6133\n",
            "Epoch 5/50\n",
            "49/50 [============================>.] - ETA: 2s - loss: 0.5801 - acc: 0.6966Epoch 1/50\n",
            "50/50 [==============================] - 139s 3s/step - loss: 0.5800 - acc: 0.6972 - val_loss: 0.5398 - val_acc: 0.7266\n",
            "Epoch 6/50\n",
            "49/50 [============================>.] - ETA: 2s - loss: 0.5401 - acc: 0.7251Epoch 1/50\n",
            "50/50 [==============================] - 137s 3s/step - loss: 0.5394 - acc: 0.7260 - val_loss: 0.5098 - val_acc: 0.7617\n",
            "Epoch 7/50\n",
            "49/50 [============================>.] - ETA: 2s - loss: 0.4858 - acc: 0.7654Epoch 1/50\n",
            "50/50 [==============================] - 139s 3s/step - loss: 0.4850 - acc: 0.7662 - val_loss: 0.4150 - val_acc: 0.8086\n",
            "Epoch 8/50\n",
            "49/50 [============================>.] - ETA: 2s - loss: 0.4219 - acc: 0.8085Epoch 1/50\n",
            "50/50 [==============================] - 141s 3s/step - loss: 0.4219 - acc: 0.8086 - val_loss: 0.3323 - val_acc: 0.8672\n",
            "Epoch 9/50\n",
            "49/50 [============================>.] - ETA: 2s - loss: 0.3656 - acc: 0.8500Epoch 1/50\n",
            "50/50 [==============================] - 141s 3s/step - loss: 0.3643 - acc: 0.8503 - val_loss: 0.3473 - val_acc: 0.8359\n",
            "Epoch 10/50\n",
            "49/50 [============================>.] - ETA: 2s - loss: 0.3055 - acc: 0.8777Epoch 1/50\n",
            "50/50 [==============================] - 138s 3s/step - loss: 0.3147 - acc: 0.8763 - val_loss: 0.3099 - val_acc: 0.8633\n",
            "Epoch 11/50\n",
            "49/50 [============================>.] - ETA: 2s - loss: 0.2475 - acc: 0.8986Epoch 1/50\n",
            "50/50 [==============================] - 141s 3s/step - loss: 0.2462 - acc: 0.8987 - val_loss: 0.1440 - val_acc: 0.9492\n",
            "Epoch 12/50\n",
            "49/50 [============================>.] - ETA: 2s - loss: 0.2047 - acc: 0.9221Epoch 1/50\n",
            "50/50 [==============================] - 138s 3s/step - loss: 0.2037 - acc: 0.9219 - val_loss: 0.1266 - val_acc: 0.9570\n",
            "Epoch 13/50\n",
            "49/50 [============================>.] - ETA: 2s - loss: 0.1801 - acc: 0.9385Epoch 1/50\n",
            "50/50 [==============================] - 137s 3s/step - loss: 0.1783 - acc: 0.9387 - val_loss: 0.2705 - val_acc: 0.9062\n",
            "Epoch 14/50\n",
            "49/50 [============================>.] - ETA: 2s - loss: 0.1779 - acc: 0.9325Epoch 1/50\n",
            "50/50 [==============================] - 138s 3s/step - loss: 0.1758 - acc: 0.9336 - val_loss: 0.0654 - val_acc: 0.9844\n",
            "Epoch 15/50\n",
            "49/50 [============================>.] - ETA: 2s - loss: 0.0991 - acc: 0.9642Epoch 1/50\n",
            "50/50 [==============================] - 139s 3s/step - loss: 0.0989 - acc: 0.9643 - val_loss: 0.0693 - val_acc: 0.9805\n",
            "Epoch 16/50\n",
            "49/50 [============================>.] - ETA: 2s - loss: 0.1288 - acc: 0.9544Epoch 1/50\n",
            "50/50 [==============================] - 141s 3s/step - loss: 0.1270 - acc: 0.9552 - val_loss: 0.0430 - val_acc: 0.9844\n",
            "Epoch 17/50\n",
            "49/50 [============================>.] - ETA: 2s - loss: 0.0937 - acc: 0.9707Epoch 1/50\n",
            "50/50 [==============================] - 142s 3s/step - loss: 0.0922 - acc: 0.9713 - val_loss: 0.0330 - val_acc: 0.9883\n",
            "Epoch 18/50\n",
            "49/50 [============================>.] - ETA: 2s - loss: 0.1669 - acc: 0.9647Epoch 1/50\n",
            "50/50 [==============================] - 140s 3s/step - loss: 0.1643 - acc: 0.9651 - val_loss: 0.0267 - val_acc: 0.9922\n",
            "Epoch 19/50\n",
            "49/50 [============================>.] - ETA: 2s - loss: 0.1291 - acc: 0.9654Epoch 1/50\n",
            "50/50 [==============================] - 139s 3s/step - loss: 0.1268 - acc: 0.9661 - val_loss: 0.0154 - val_acc: 1.0000\n",
            "Epoch 20/50\n",
            "49/50 [============================>.] - ETA: 2s - loss: 0.1275 - acc: 0.9668Epoch 1/50\n",
            "50/50 [==============================] - 139s 3s/step - loss: 0.1253 - acc: 0.9675 - val_loss: 0.0142 - val_acc: 1.0000\n",
            "Epoch 21/50\n",
            "49/50 [============================>.] - ETA: 2s - loss: 0.0933 - acc: 0.9777Epoch 1/50\n",
            "50/50 [==============================] - 137s 3s/step - loss: 0.0917 - acc: 0.9781 - val_loss: 0.0081 - val_acc: 1.0000\n",
            "Epoch 22/50\n",
            "49/50 [============================>.] - ETA: 2s - loss: 0.0690 - acc: 0.9796Epoch 1/50\n",
            "50/50 [==============================] - 139s 3s/step - loss: 0.0741 - acc: 0.9773 - val_loss: 0.4693 - val_acc: 0.8555\n",
            "Epoch 23/50\n",
            "49/50 [============================>.] - ETA: 2s - loss: 0.0567 - acc: 0.9857Epoch 1/50\n",
            "50/50 [==============================] - 139s 3s/step - loss: 0.0558 - acc: 0.9860 - val_loss: 0.0070 - val_acc: 1.0000\n",
            "Epoch 24/50\n",
            "49/50 [============================>.] - ETA: 2s - loss: 0.0681 - acc: 0.9816Epoch 1/50\n",
            "50/50 [==============================] - 140s 3s/step - loss: 0.0671 - acc: 0.9820 - val_loss: 0.0070 - val_acc: 1.0000\n",
            "Epoch 25/50\n",
            "49/50 [============================>.] - ETA: 2s - loss: 0.0566 - acc: 0.9818Epoch 1/50\n",
            "50/50 [==============================] - 139s 3s/step - loss: 0.0556 - acc: 0.9819 - val_loss: 0.0062 - val_acc: 1.0000\n",
            "Epoch 26/50\n",
            "49/50 [============================>.] - ETA: 2s - loss: 0.0596 - acc: 0.9812Epoch 1/50\n",
            "50/50 [==============================] - 142s 3s/step - loss: 0.0586 - acc: 0.9816 - val_loss: 0.0045 - val_acc: 1.0000\n",
            "Epoch 27/50\n",
            "49/50 [============================>.] - ETA: 2s - loss: 0.0891 - acc: 0.9753Epoch 1/50\n",
            "50/50 [==============================] - 138s 3s/step - loss: 0.0879 - acc: 0.9758 - val_loss: 0.0240 - val_acc: 0.9922\n",
            "Epoch 28/50\n",
            "49/50 [============================>.] - ETA: 2s - loss: 0.0082 - acc: 0.9987Epoch 1/50\n",
            "50/50 [==============================] - 141s 3s/step - loss: 0.0081 - acc: 0.9987 - val_loss: 0.0060 - val_acc: 1.0000\n",
            "Epoch 29/50\n",
            "49/50 [============================>.] - ETA: 2s - loss: 0.0396 - acc: 0.9867Epoch 1/50\n",
            "50/50 [==============================] - 138s 3s/step - loss: 0.0389 - acc: 0.9870 - val_loss: 0.0018 - val_acc: 1.0000\n",
            "Epoch 30/50\n",
            "49/50 [============================>.] - ETA: 2s - loss: 0.0320 - acc: 0.9899Epoch 1/50\n",
            "50/50 [==============================] - 139s 3s/step - loss: 0.0475 - acc: 0.9859 - val_loss: 1.8022 - val_acc: 0.6602\n",
            "Epoch 31/50\n",
            "49/50 [============================>.] - ETA: 2s - loss: 0.0515 - acc: 0.9881Epoch 1/50\n",
            "50/50 [==============================] - 139s 3s/step - loss: 0.0505 - acc: 0.9883 - val_loss: 0.0017 - val_acc: 1.0000\n",
            "Epoch 32/50\n",
            "49/50 [============================>.] - ETA: 2s - loss: 0.0574 - acc: 0.9838Epoch 1/50\n",
            "50/50 [==============================] - 140s 3s/step - loss: 0.0563 - acc: 0.9841 - val_loss: 0.0017 - val_acc: 1.0000\n",
            "Epoch 33/50\n",
            "49/50 [============================>.] - ETA: 2s - loss: 0.0573 - acc: 0.9841Epoch 1/50\n",
            "50/50 [==============================] - 140s 3s/step - loss: 0.0562 - acc: 0.9844 - val_loss: 0.0016 - val_acc: 1.0000\n",
            "Epoch 34/50\n",
            "49/50 [============================>.] - ETA: 2s - loss: 0.0585 - acc: 0.9839Epoch 1/50\n",
            "50/50 [==============================] - 139s 3s/step - loss: 0.0582 - acc: 0.9840 - val_loss: 0.0046 - val_acc: 1.0000\n",
            "Epoch 35/50\n",
            "49/50 [============================>.] - ETA: 2s - loss: 0.0061 - acc: 0.9990Epoch 1/50\n",
            "50/50 [==============================] - 139s 3s/step - loss: 0.0062 - acc: 0.9990 - val_loss: 0.0467 - val_acc: 0.9883\n",
            "Epoch 36/50\n",
            "49/50 [============================>.] - ETA: 2s - loss: 0.0581 - acc: 0.9857Epoch 1/50\n",
            "50/50 [==============================] - 139s 3s/step - loss: 0.0570 - acc: 0.9860 - val_loss: 6.0758e-04 - val_acc: 1.0000\n",
            "Epoch 37/50\n",
            " 7/50 [===>..........................] - ETA: 1:46 - loss: 8.4253e-04 - acc: 1.0000"
          ],
          "name": "stdout"
        }
      ]
    },
    {
      "cell_type": "markdown",
      "metadata": {
        "id": "2tNfdSOCFIwE",
        "colab_type": "text"
      },
      "source": [
        "Visualize 2 classification results using 3d projection of the top 3 PCA components"
      ]
    },
    {
      "cell_type": "code",
      "metadata": {
        "id": "eDwWz3ofEhvb",
        "colab_type": "code",
        "colab": {}
      },
      "source": [
        "# 1 row 2 colummns\n",
        "ax1 = plt.subplot2grid((1, 4), (0, 1), colspan=1, projection='3d')\n",
        "ax2 = plt.subplot2grid((1, 4), (0, 3), colspan=1, projection='3d')\n",
        "\n",
        "# SVM\n",
        "# projected top 3 eigen vector plot\n",
        "class_1_index = np.where(out_put_SVM == 1)[0]\n",
        "class_2_index = np.where(out_put_SVM == 0)[0]\n",
        "# plot \n",
        "ax1.set_title('SVM')\n",
        "ax1.scatter(testing_data_r_a[class_1_index,1], \n",
        "            testing_data_r_a[class_1_index,2],\n",
        "            testing_data_r_a[class_1_index,0],\n",
        "            marker = 'o',color='r',label='Active')\n",
        "ax1.scatter(testing_data_r_a[class_2_index,1],\n",
        "            testing_data_r_a[class_2_index,2],\n",
        "            testing_data_r_a[class_2_index,0],\n",
        "            marker = '^',color= 'b',label='Passive')\n",
        "#ax1.legend(loc='left', mode=\"expand\", borderaxespad=0.)\n",
        "\n",
        "# projected top 3 eigen vector plot\n",
        "class_1_index = np.where(out_put_DT == 1)[0]\n",
        "class_2_index = np.where(out_put_DT == 0)[0]\n",
        "# plot \n",
        "ax2.set_title('DT and RF')\n",
        "ax2.scatter(testing_data_r_a[class_1_index,1],\n",
        "            testing_data_r_a[class_1_index,2],\n",
        "            testing_data_r_a[class_1_index,0],\n",
        "            marker = 'o',color='r',label='Active')\n",
        "ax2.scatter(testing_data_r_a[class_2_index,1],\n",
        "            testing_data_r_a[class_2_index,2],\n",
        "            testing_data_r_a[class_2_index,0],\n",
        "            marker = '^',color='b',label='Passive')\n",
        "ax2.legend(bbox_to_anchor=(1.05, 1), loc='upper left', borderaxespad=0.)\n"
      ],
      "execution_count": 0,
      "outputs": []
    }
  ]
}